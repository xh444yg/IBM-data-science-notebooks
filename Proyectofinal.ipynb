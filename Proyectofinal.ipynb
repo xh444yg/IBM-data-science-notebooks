{
  "metadata": {
    "kernelspec": {
      "name": "python",
      "display_name": "Python (Pyodide)",
      "language": "python"
    },
    "language_info": {
      "codemirror_mode": {
        "name": "python",
        "version": 3
      },
      "file_extension": ".py",
      "mimetype": "text/x-python",
      "name": "python",
      "nbconvert_exporter": "python",
      "pygments_lexer": "ipython3",
      "version": "3.8"
    }
  },
  "nbformat_minor": 4,
  "nbformat": 4,
  "cells": [
    {
      "cell_type": "markdown",
      "source": "# Proyecto Final de Ciencia de Datos",
      "metadata": {}
    },
    {
      "cell_type": "markdown",
      "source": "#### En este proyecto final, abordaremos diversos aspectos de la ciencia de datos, incluyendo los lenguajes de programación, bibliotecas, herramientas, y ejemplos de código para realizar operaciones aritméticas y conversiones de tiempo. Este cuaderno es una combinación de celdas Markdown y celdas de código para demostrar el conocimiento adquirido.\n",
      "metadata": {
        "jp-MarkdownHeadingCollapsed": true
      }
    },
    {
      "cell_type": "markdown",
      "source": "# Lenguajes de la Ciencia de Datos\n1. Python\n2. R\n3. SQL\n4. Julia\n5. Scala\n",
      "metadata": {}
    },
    {
      "cell_type": "markdown",
      "source": "# Bibliotecas de Ciencia de Datos\n- Pandas\n- NumPy\n- Matplotlib\n- SciPy\n- Scikit-Learn\n",
      "metadata": {}
    },
    {
      "cell_type": "markdown",
      "source": "# Herramientas de Ciencia de Datos\n\n| Herramienta         | Descripción                                    |\n|---------------------|------------------------------------------------|\n| Jupyter Notebooks   | Entorno interactivo para análisis de datos     |\n| RStudio             | IDE para el análisis de datos en R             |\n| TensorFlow          | Biblioteca para aprendizaje profundo           |\n| Apache Spark        | Motor de análisis de datos a gran escala       |\n| Tableau             | Herramienta de visualización de datos          |",
      "metadata": {}
    },
    {
      "cell_type": "markdown",
      "source": "# Ejemplos de Expresiones Aritméticas\nA continuación, algunos ejemplos de expresiones aritméticas:\n- Suma: `3 + 2 = 5`\n- Multiplicación: `4 * 7 = 28`\n- División: `10 / 2 = 5`",
      "metadata": {}
    },
    {
      "cell_type": "code",
      "source": "# Multiplica y suma \nmult = 4 * 5\nsum = 4 + 5\nmult , sum",
      "metadata": {
        "trusted": true
      },
      "outputs": [
        {
          "execution_count": 9,
          "output_type": "execute_result",
          "data": {
            "text/plain": "(20, 9)"
          },
          "metadata": {}
        }
      ],
      "execution_count": 9
    },
    {
      "cell_type": "code",
      "source": "# Conversión de minutos a horas\nminutos = 120\nhoras = minutos / 60\nhoras",
      "metadata": {
        "trusted": true
      },
      "outputs": [
        {
          "execution_count": 10,
          "output_type": "execute_result",
          "data": {
            "text/plain": "2.0"
          },
          "metadata": {}
        }
      ],
      "execution_count": 10
    },
    {
      "cell_type": "code",
      "source": "# Listar Objetivos\nobjetivos = [\n    \"Aprender sobre los lenguajes y bibliotecas de ciencia de datos.\",\n    \"Conocer herramientas de ciencia de datos y sus aplicaciones.\",\n    \"Implementar operaciones matemáticas en Python.\",\n    \"Compartir el trabajo en GitHub.\"\n]\n\n# Imprimir los objetivos\nfor objetivo in objetivos:\n    print(objetivo)\n",
      "metadata": {
        "trusted": true
      },
      "outputs": [
        {
          "name": "stdout",
          "text": "Aprender sobre los lenguajes y bibliotecas de ciencia de datos.\nConocer herramientas de ciencia de datos y sus aplicaciones.\nImplementar operaciones matemáticas en Python.\nCompartir el trabajo en GitHub.\n",
          "output_type": "stream"
        }
      ],
      "execution_count": 11
    },
    {
      "cell_type": "markdown",
      "source": "# Erika Michelle Garcia Medina",
      "metadata": {}
    },
    {
      "cell_type": "code",
      "source": "",
      "metadata": {
        "trusted": true
      },
      "outputs": [],
      "execution_count": null
    }
  ]
}